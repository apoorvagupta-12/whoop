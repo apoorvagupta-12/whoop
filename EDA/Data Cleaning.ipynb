{
 "cells": [
  {
   "cell_type": "code",
   "execution_count": 3,
   "metadata": {},
   "outputs": [
    {
     "name": "stdout",
     "output_type": "stream",
     "text": [
      "Missing values in important sleep columns:\n"
     ]
    },
    {
     "ename": "NameError",
     "evalue": "name 'sleep_merged' is not defined",
     "output_type": "error",
     "traceback": [
      "\u001b[0;31m---------------------------------------------------------------------------\u001b[0m",
      "\u001b[0;31mNameError\u001b[0m                                 Traceback (most recent call last)",
      "Cell \u001b[0;32mIn[3], line 12\u001b[0m\n\u001b[1;32m     10\u001b[0m \u001b[38;5;66;03m# Let's see the missing values in these columns\u001b[39;00m\n\u001b[1;32m     11\u001b[0m \u001b[38;5;28mprint\u001b[39m(\u001b[38;5;124m'\u001b[39m\u001b[38;5;124mMissing values in important sleep columns:\u001b[39m\u001b[38;5;124m'\u001b[39m)\n\u001b[0;32m---> 12\u001b[0m \u001b[38;5;28mprint\u001b[39m(\u001b[43msleep_merged\u001b[49m[important_sleep_cols]\u001b[38;5;241m.\u001b[39misnull()\u001b[38;5;241m.\u001b[39msum())\n\u001b[1;32m     14\u001b[0m \u001b[38;5;66;03m# For simplicity, we'll drop rows that have missing critical data in the sleep_merged for now\u001b[39;00m\n\u001b[1;32m     15\u001b[0m sleep_merged_clean \u001b[38;5;241m=\u001b[39m sleep_merged\u001b[38;5;241m.\u001b[39mdropna(subset\u001b[38;5;241m=\u001b[39mimportant_sleep_cols)\n",
      "\u001b[0;31mNameError\u001b[0m: name 'sleep_merged' is not defined"
     ]
    }
   ],
   "source": [
    "# Data Cleaning\n",
    "\n",
    "# We'll focus on important columns for each merged dataset and handle missing values.\n",
    "\n",
    "# For Sleep Quality Prediction: We'll clean sleep_merged, focusing on columns: \n",
    "# 'Sleep performance %_sleep', 'Recovery score %', 'Asleep duration (min)_sleep', and others.\n",
    "\n",
    "important_sleep_cols = ['Sleep performance %_sleep', 'Recovery score %', 'Asleep duration (min)_sleep', 'In bed duration (min)_sleep']\n",
    "\n",
    "# Let's see the missing values in these columns\n",
    "print('Missing values in important sleep columns:')\n",
    "print(sleep_merged[important_sleep_cols].isnull().sum())\n",
    "\n",
    "# For simplicity, we'll drop rows that have missing critical data in the sleep_merged for now\n",
    "sleep_merged_clean = sleep_merged.dropna(subset=important_sleep_cols)\n",
    "\n",
    "# For Recovery and Activity Impact Analysis: We'll clean recovery_merged, focusing on key columns\n",
    "important_recovery_cols = ['Energy burned (cal)_phys', 'Day Strain', 'Workout start time', 'Duration (min)']\n",
    "print('\\\n",
    "Missing values in important recovery columns:')\n",
    "print(recovery_merged[important_recovery_cols].isnull().sum())\n",
    "\n",
    "# Drop rows with missing critical data for recovery analysis\n",
    "recovery_merged_clean = recovery_merged.dropna(subset=important_recovery_cols)\n",
    "\n",
    "print('\\\n",
    "Cleaned Sleep Quality DataFrame shape:', sleep_merged_clean.shape)\n",
    "print('Cleaned Recovery Analysis DataFrame shape:', recovery_merged_clean.shape)\n",
    "\n",
    "print('\\\n",
    "Data cleaning completed.')\n",
    "\n",
    "# Show heads of cleaned dataframes\n",
    "print('\\\n",
    "Head of Cleaned Sleep Quality DataFrame:')\n",
    "print(sleep_merged_clean.head())\n",
    "\n",
    "print('\\\n",
    "Head of Cleaned Recovery Analysis DataFrame:')\n",
    "print(recovery_merged_clean.head())"
   ]
  }
 ],
 "metadata": {
  "kernelspec": {
   "display_name": "Python 3",
   "language": "python",
   "name": "python3"
  },
  "language_info": {
   "codemirror_mode": {
    "name": "ipython",
    "version": 3
   },
   "file_extension": ".py",
   "mimetype": "text/x-python",
   "name": "python",
   "nbconvert_exporter": "python",
   "pygments_lexer": "ipython3",
   "version": "3.9.6"
  }
 },
 "nbformat": 4,
 "nbformat_minor": 2
}
